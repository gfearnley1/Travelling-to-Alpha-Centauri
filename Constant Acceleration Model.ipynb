{
 "cells": [
  {
   "cell_type": "code",
   "execution_count": 1,
   "metadata": {
    "collapsed": true,
    "deletable": true,
    "editable": true
   },
   "outputs": [],
   "source": [
    "from sympy import * \n",
    "import numpy \n",
    "from __future__ import division \n",
    "init_printing(use_unicode=True)"
   ]
  },
  {
   "cell_type": "code",
   "execution_count": 2,
   "metadata": {
    "collapsed": false,
    "deletable": true,
    "editable": true
   },
   "outputs": [
    {
     "data": {
      "image/png": "[encoded data removed]",
      "text/latex": [
       "$$v_{c} \\left(t - t_{l}\\right) - \\frac{0.5 m_{l}}{F_{L}} v_{c}^{2}$$"
      ],
      "text/plain": [
       "                           2\n",
       "                0.5⋅m_l⋅v_c \n",
       "v_c⋅(t - t_l) - ────────────\n",
       "                    F_L     "
      ]
     },
     "execution_count": 2,
     "metadata": {},
     "output_type": "execute_result"
    }
   ],
   "source": [
    "t = symbols('t')\n",
    "\n",
    "# the catchers equations of motion\n",
    "\n",
    "x_c, v_c, a_c, t_c = symbols('x_c v_c a_c t_c') # defining relevant symbols\n",
    "\n",
    "x_c_expr = 0.5 * a_c * t**2\n",
    "v_c_expr = a_c * t\n",
    "\n",
    "# the launchers equations of motion\n",
    "\n",
    "F_L, a_L, t_L, m_l, t_l = symbols('F_L a_L t_L m_l t_l')\n",
    "\n",
    "x_l_expr = -1/2 * m_l * v_c**2 / F_L + v_c * (t - t_l)\n",
    "\n",
    "x_l_expr"
   ]
  },
  {
   "cell_type": "code",
   "execution_count": 3,
   "metadata": {
    "collapsed": false,
    "deletable": true,
    "editable": true
   },
   "outputs": [
    {
     "data": {
      "image/png": "[encoded data removed]",
      "text/latex": [
       "$$a_{c} t \\left(t - t_{l}\\right) - \\frac{0.5 m_{l}}{F_{L}} a_{c}^{2} t^{2}$$"
      ],
      "text/plain": [
       "                         2      2\n",
       "                  0.5⋅a_c ⋅m_l⋅t \n",
       "a_c⋅t⋅(t - t_l) - ───────────────\n",
       "                        F_L      "
      ]
     },
     "execution_count": 3,
     "metadata": {},
     "output_type": "execute_result"
    }
   ],
   "source": [
    "x_l_expr.subs(v_c, v_c_expr)"
   ]
  },
  {
   "cell_type": "code",
   "execution_count": 28,
   "metadata": {
    "collapsed": false,
    "deletable": true,
    "editable": true
   },
   "outputs": [
    {
     "data": {
      "text/plain": [
       "array([  4.,   8.,  12.])"
      ]
     },
     "execution_count": 28,
     "metadata": {},
     "output_type": "execute_result"
    }
   ],
   "source": [
    "t_b = numpy.linspace(4,12,3)\n",
    "t_b     # t_b = t_c"
   ]
  },
  {
   "cell_type": "code",
   "execution_count": 29,
   "metadata": {
    "collapsed": false,
    "deletable": true,
    "editable": true
   },
   "outputs": [
    {
     "data": {
      "text/plain": [
       "array([  8.,  32.,  72.])"
      ]
     },
     "execution_count": 29,
     "metadata": {},
     "output_type": "execute_result"
    }
   ],
   "source": [
    "x_c_func = lambdify([t, a_c], x_c_expr)\n",
    "x_c_vals = x_c_func(t_b, 1)\n",
    "x_c_vals"
   ]
  },
  {
   "cell_type": "code",
   "execution_count": 30,
   "metadata": {
    "collapsed": false,
    "deletable": true,
    "editable": true
   },
   "outputs": [
    {
     "data": {
      "text/plain": [
       "array([  4.,   8.,  12.])"
      ]
     },
     "execution_count": 30,
     "metadata": {},
     "output_type": "execute_result"
    }
   ],
   "source": [
    "v_c_func = lambdify([t, a_c], v_c_expr)\n",
    "v_c_vals = v_c_func(t_b, 1)\n",
    "v_c_vals"
   ]
  },
  {
   "cell_type": "code",
   "execution_count": 31,
   "metadata": {
    "collapsed": false,
    "deletable": true,
    "editable": true
   },
   "outputs": [
    {
     "data": {
      "image/png": "[encoded data removed]",
      "text/latex": [
       "$$v_{c} \\left(t - t_{l}\\right) - \\frac{0.5 m_{l}}{F_{L}} v_{c}^{2}$$"
      ],
      "text/plain": [
       "                           2\n",
       "                0.5⋅m_l⋅v_c \n",
       "v_c⋅(t - t_l) - ────────────\n",
       "                    F_L     "
      ]
     },
     "execution_count": 31,
     "metadata": {},
     "output_type": "execute_result"
    }
   ],
   "source": [
    "x_l_expr"
   ]
  },
  {
   "cell_type": "code",
   "execution_count": 43,
   "metadata": {
    "collapsed": false,
    "deletable": true,
    "editable": true
   },
   "outputs": [
    {
     "data": {
      "text/plain": [
       "array([-4.0*t_l + 14.4, -8.0*t_l + 57.6, -12.0*t_l + 129.6], dtype=object)"
      ]
     },
     "execution_count": 43,
     "metadata": {},
     "output_type": "execute_result"
    }
   ],
   "source": [
    "F_m = 5    # Force to mass ratio - determines the acceleration of the fuel pellet\n",
    "\n",
    "x_l_func = lambdify([t, v_c, m_l, F_L], x_l_expr)\n",
    "x_l_vals = x_l_func(t_b, v_c_vals, 1, F_m)\n",
    "x_l_vals"
   ]
  },
  {
   "cell_type": "code",
   "execution_count": 44,
   "metadata": {
    "collapsed": false,
    "deletable": true,
    "editable": true
   },
   "outputs": [
    {
     "name": "stdout",
     "output_type": "stream",
     "text": [
      "[1.60000000000000]\n",
      "[3.20000000000000]\n",
      "[4.80000000000000]\n"
     ]
    }
   ],
   "source": [
    "t_l_vals = numpy.zeros(len(t_b))\n",
    "\n",
    "for i in range(len(t_b)):\n",
    "    Eq1 = Eq(x_l_vals[i], x_c_vals[i])\n",
    "    print solve(Eq1, t_l)\n",
    "    t_l_vals[i] = numpy.array(solve(Eq1, t_l))\n",
    "    \n"
   ]
  },
  {
   "cell_type": "code",
   "execution_count": 45,
   "metadata": {
    "collapsed": false,
    "deletable": true,
    "editable": true
   },
   "outputs": [
    {
     "data": {
      "text/plain": [
       "array([ 2.4,  4.8,  7.2])"
      ]
     },
     "execution_count": 45,
     "metadata": {},
     "output_type": "execute_result"
    }
   ],
   "source": [
    "pellet_travel_time = t_b - t_l_vals\n",
    "pellet_travel_time"
   ]
  },
  {
   "cell_type": "code",
   "execution_count": 46,
   "metadata": {
    "collapsed": false,
    "deletable": true,
    "editable": true
   },
   "outputs": [
    {
     "data": {
      "text/plain": [
       "array([  3.33333333,   6.66666667,  10.        ])"
      ]
     },
     "execution_count": 46,
     "metadata": {},
     "output_type": "execute_result"
    }
   ],
   "source": [
    "pellet_av_v = x_c_vals / pellet_travel_time\n",
    "pellet_av_v"
   ]
  },
  {
   "cell_type": "code",
   "execution_count": 47,
   "metadata": {
    "collapsed": false
   },
   "outputs": [
    {
     "data": {
      "text/plain": [
       "array([  4.,   8.,  12.])"
      ]
     },
     "execution_count": 47,
     "metadata": {},
     "output_type": "execute_result"
    }
   ],
   "source": [
    "t_L = v_c_vals / F_m\n",
    "t_L * F_m\n"
   ]
  },
  {
   "cell_type": "code",
   "execution_count": 48,
   "metadata": {
    "collapsed": false
   },
   "outputs": [
    {
     "data": {
      "text/plain": [
       "array([ 2.,  4.,  6.])"
      ]
     },
     "execution_count": 48,
     "metadata": {},
     "output_type": "execute_result"
    }
   ],
   "source": [
    "t_l_const_v = t_b / 2\n",
    "t_l_const_v"
   ]
  },
  {
   "cell_type": "code",
   "execution_count": 49,
   "metadata": {
    "collapsed": false,
    "deletable": true,
    "editable": true
   },
   "outputs": [
    {
     "data": {
      "image/png": "[encoded data removed]",
      "text/plain": [
       "<matplotlib.figure.Figure at 0x95b2860>"
      ]
     },
     "metadata": {},
     "output_type": "display_data"
    }
   ],
   "source": [
    "import matplotlib.pyplot as pyplot\n",
    "from scipy import interpolate\n",
    "\n",
    "pyplot.figure(1)\n",
    "\n",
    "for i in range(len(t_b)):\n",
    "    '''\n",
    "    t_launch = t_l_vals[i]\n",
    "    t_travel = pellet_travel_time[i]\n",
    "    pellet_t = numpy.linspace(t_launch, t_launch + t_travel, 5)\n",
    "    pellet_x = numpy.linspace(0, pellet_av_v[i] * t_travel, 5)\n",
    "    '''\n",
    "    \n",
    "    pellet_t_const_v = numpy.array([t_l_const_v[i], t_b[i]])\n",
    "    pellet_x_const_v = numpy.array([0, x_c_vals[i]])\n",
    "    \n",
    "    t_a = numpy.linspace(0, t_L[i], 100)\n",
    "    pellet_x_a = 0.5 * F_m * t_a**2\n",
    "    \n",
    "    pellet_t_a = t_l_vals[i] + t_a\n",
    "    \n",
    "    #pyplot.plot(pellet_t, pellet_x, color = 'red')\n",
    "    pyplot.plot(pellet_t_a , pellet_x_a, color = 'green')\n",
    "    pyplot.plot([pellet_t_a[-1], t_b[i]], [pellet_x_a[-1], x_c_vals[i]], color = 'green')\n",
    "    pyplot.plot(pellet_t_const_v, pellet_x_const_v, color = 'blue', linestyle = '--')\n",
    "\n",
    "\n",
    "t_craft = numpy.linspace(0, t_b[-1] ,100)\n",
    "x_craft = 0.5 * t_craft**2\n",
    "\n",
    "'''    \n",
    "f = interpolate.interp1d(t_b, x_c_vals, kind = 'quadratic')\n",
    "t_b_new = numpy.linspace(t_b[0], t_b[-1], 100)\n",
    "x_c_vals_new = f(t_b_new)\n",
    "\n",
    "pyplot.plot(t_b_new, x_c_vals_new, color = 'black')\n",
    "'''\n",
    "pyplot.plot(t_craft, x_craft, color = 'black')\n",
    "\n",
    "pyplot.xlabel('Time')\n",
    "pyplot.ylabel('Distance')\n",
    "\n",
    "\n",
    "pyplot.show()"
   ]
  },
  {
   "cell_type": "code",
   "execution_count": 54,
   "metadata": {
    "collapsed": false
   },
   "outputs": [
    {
     "name": "stdout",
     "output_type": "stream",
     "text": [
      "[ 1.6  3.2  4.8]\n"
     ]
    },
    {
     "data": {
      "text/plain": [
       "array([ 2.,  4.,  6.])"
      ]
     },
     "execution_count": 54,
     "metadata": {},
     "output_type": "execute_result"
    }
   ],
   "source": [
    "print t_l_vals\n",
    "t_b\n",
    "t_l_const_v"
   ]
  },
  {
   "cell_type": "code",
   "execution_count": 59,
   "metadata": {
    "collapsed": false
   },
   "outputs": [
    {
     "data": {
      "image/png": "[encoded data removed]",
      "text/plain": [
       "<matplotlib.figure.Figure at 0xb5452e8>"
      ]
     },
     "metadata": {},
     "output_type": "display_data"
    }
   ],
   "source": [
    "pyplot.figure(2)\n",
    "\n",
    "pyplot.plot(t_l_const_v, t_b)\n",
    "pyplot.xlabel('$t_l(s)$', size = 15)\n",
    "pyplot.ylabel('$t_c(s)$', size = 15)\n",
    "\n",
    "pyplot.show()"
   ]
  },
  {
   "cell_type": "code",
   "execution_count": null,
   "metadata": {
    "collapsed": true
   },
   "outputs": [],
   "source": []
  }
 ],
 "metadata": {
  "kernelspec": {
   "display_name": "Python 2",
   "language": "python",
   "name": "python2"
  },
  "language_info": {
   "codemirror_mode": {
    "name": "ipython",
    "version": 2
   },
   "file_extension": ".py",
   "mimetype": "text/x-python",
   "name": "python",
   "nbconvert_exporter": "python",
   "pygments_lexer": "ipython2",
   "version": "2.7.10"
  }
 },
 "nbformat": 4,
 "nbformat_minor": 2
}
