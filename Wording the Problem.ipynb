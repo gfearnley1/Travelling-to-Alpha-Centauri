{
 "cells": [
  {
   "cell_type": "markdown",
   "metadata": {
    "deletable": true,
    "editable": true
   },
   "source": [
    "## Going from discrete to contiunuous with the FCVM model\n",
    "In the discrete \n",
    " - the mass of the fuel pellet that can be launched based on what the velocity of the spacecraft would be at the time $v_c(t_c)$.\n",
    " - shining the laser on them for a fixed time (we chose this fixed time) i.e. the laser was allowed to apply a fixed impulse to the mass pellet. \n",
    " - The pellets would be launched so the spaceraft would then catch the pellets at some later time $t_c = t_l + t_t$, where $t_t$ is the travel time of the pellet. \n",
    " - The engine mass was then chosen such that the rocket could burn all the fuel in some time $t_b$ (we choose this too).\n",
    " - A change in velocity was calculated using the rocket equation, $\\Delta v = v_e ln(\\frac{m_{wet}}{m_{dry}})$\n",
    " - Knowing the the spacecraft's velocity after the brun, the mass of the next fuel pellet that was going to be caught was calculated, and the useless engine mass was then jetisioned\n",
    " - and so on......"
   ]
  },
  {
   "cell_type": "markdown",
   "metadata": {
    "deletable": true,
    "editable": true
   },
   "source": [
    "## The Problem \n",
    "\n",
    "We have two objects, a launcher and a catcher. \n",
    "The launcher is capable of applying a fixed impulse (?) $F_Ldt_l$ to some launch infintesimal mass $dm$. \n",
    "The catcher is undergoing nonuniform acceleration. The launch rate is a function of the velocity of the catcher since the launcher has \n",
    "\n",
    "$$\n",
    "F_L = \\frac{dp_l}{dt_l} = v_c(t_c)\\frac{dm}{dt_l}\n",
    "$$\n",
    "\n",
    "$$\n",
    "\\frac{dm}{dt_l} = \\frac{F_l}{v_c(t_c)}\n",
    "$$\n",
    "\n",
    "Here we have introduced different times $t_l$ and $t_c$, since the infintesimal mass $dm$ is received by the catcher over a longer duration compared to when it is launched. This means $dt_l \\neq dt_c$ and therefore $\\frac{dm}{dt_l} \\neq \\frac{dm}{dt_c}$. This effect is somewhat analogous to a redshift."
   ]
  },
  {
   "cell_type": "markdown",
   "metadata": {},
   "source": [
    "## The relationship between $t_l$ and $t_c$\n",
    "\n",
    "We have $t_l = t_c - \\frac{ x}{ \\dot x}$. What is $\\frac{dt_c}{dt_l}$?"
   ]
  },
  {
   "cell_type": "markdown",
   "metadata": {},
   "source": [
    "Is it ok to simply note:\n",
    "\n",
    "$$\n",
    "\\frac{t_c}{t_l} = \\frac{t_c}{t_c - \\frac{x}{\\dot x}}\n",
    "$$\n",
    "\n",
    "and therefore that (this bit feels questionable)\n",
    "\n",
    "$$\n",
    "\\frac{dt_c}{dt_l} = \\frac{t_c}{t_c - \\frac{x}{\\dot x}}\n",
    "$$\n",
    "\n",
    "For a constantly accelerating spacecraft, with \n",
    "$$\n",
    "x = \\frac{1}{2} a t_c^2\\ \\ and \\ \\ \\dot x = v = a t_c,\n",
    "$$ \n",
    "\n",
    "$$\\frac{x}{\\dot x} = \\frac{1}{2} t_c\n",
    "$$ \n",
    "and therefore \n",
    "$$\n",
    "\\frac{dt_c}{dt_l} = 2\n",
    "$$\n",
    "i.e. the mass $dm$ is caught over twice the time it is launched, as expected!\n"
   ]
  },
  {
   "cell_type": "markdown",
   "metadata": {},
   "source": [
    "Treating $x$ as a function of $t_c$, $x = x(t_c)$ and likewise $\\dot x = \\dot x (t_c)$, and differentiating $t_l = t_c - \\frac{ x}{ \\dot x}$:\n",
    "\n",
    "$$\n",
    "\\frac{dt_l}{dt_c} = 1 - \\frac{(\\dot x^2 - \\ddot x x)}{\\dot x^2}\n",
    "= 1 - 1 + \\frac{\\ddot x x}{\\dot x^2} = \\frac{\\ddot x x}{\\dot x^2} \n",
    "$$\n",
    "\n",
    "$$\n",
    "\\frac{dt_c}{dt_l} = \\frac{\\dot x^2}{\\ddot x x}\n",
    "$$\n",
    "\n",
    "For a constant acceleration this also gives the desired result:\n",
    "$$\n",
    "\\frac{dt_c}{dt_l} = 2\n",
    "$$\n"
   ]
  }
 ],
 "metadata": {
  "kernelspec": {
   "display_name": "Python 2",
   "language": "python",
   "name": "python2"
  },
  "language_info": {
   "codemirror_mode": {
    "name": "ipython",
    "version": 2
   },
   "file_extension": ".py",
   "mimetype": "text/x-python",
   "name": "python",
   "nbconvert_exporter": "python",
   "pygments_lexer": "ipython2",
   "version": "2.7.10"
  }
 },
 "nbformat": 4,
 "nbformat_minor": 2
}
