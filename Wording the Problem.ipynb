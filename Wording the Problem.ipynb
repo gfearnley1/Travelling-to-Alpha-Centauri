{
 "cells": [
  {
   "cell_type": "markdown",
   "metadata": {
    "deletable": true,
    "editable": true
   },
   "source": [
    "# Going from discrete to contiunuous with the FCVM model\n",
    "\n",
    "### In the discrete model:\n",
    " - the laser was allowed to apply a fixed impulse, $F_L \\Delta t$, to a mass pellet, accelerating it up to the velocity of the spacecraft \n",
    " - based on what the velocity of the spacecraft would be at the time the pellet is caught, $t_c$ ($t_c = t_l + t_t$ where $t_t$ is the travel time of the pellet), the mass of the fuel pellet that could be launched was calculated.\n",
    " - The engine mass was then chosen such that the rocket could burn all the fuel in some time $t_b$, before it would then catch the next mass pellet.\n",
    " - A change in velocity was calculated using the rocket equation, $\\Delta v = v_e ln(\\frac{m_{wet}}{m_{dry}})$\n",
    " - Knowing the the spacecraft's velocity after the burn, the mass of the next fuel pellet that was going to be caught was calculated, and the useless engine mass was then jetisioned\n",
    " - and so on......"
   ]
  },
  {
   "cell_type": "markdown",
   "metadata": {},
   "source": [
    "## Setting Up The Problem \n",
    "\n",
    "Below the problem is going to be phrased in terms a catcher and launcher, to be as general as possible. "
   ]
  },
  {
   "cell_type": "markdown",
   "metadata": {},
   "source": [
    "## The relationship between $t_l$ and $t_c$\n",
    "\n",
    "In the simple constant acceleration model, the fuel has to be launched at twice the rate it was caught, or in other words the mass launch rate was twice the mass catch rate.\n",
    "\n",
    "It is will become useful to define two different time variables $t_l$ (the launch time) and $t_c$ (the catch time) which are related by:\n",
    "\n",
    "$$t_l = t_c - \\frac{ x_c}{ \\dot x_c}$$\n",
    "\n",
    "where $x_c$ and $\\dot x_c$ are the displacement and velocity of the catcher respectively. The launched mass reaches the catcher with the same velocity as the catcher,  and the distance the launched mass travels is the same as the distace the spacecraft has travelled at the time of the catch, making $ \\frac{ x_c}{ \\dot x_c} $ the travel time. \n",
    "\n",
    "Note that this means $dt_l \\neq dt_c$ and therefore $\\frac{dm}{dt_l} \\neq \\frac{dm}{dt_c}$. This effect is somewhat analogous to a redshift. The power of the emitted light we receive from a receding galaxy is lowered due to its motion away from us. In this model, the \"power\" ($\\frac{dm}{dt}$) is reduced due to the motion of the catcher."
   ]
  },
  {
   "cell_type": "markdown",
   "metadata": {},
   "source": [
    "#### Finding $\\frac{dt_c}{dt_l}$\n",
    "\n",
    "Differentiating $t_l = t_c - \\frac{ x_c}{ \\dot x_c}$:\n",
    "\n",
    "$$\n",
    "\\frac{dt_l}{dt_c} = 1 - \\frac{(\\dot x_c^2 - \\ddot x_c x_c)}{\\dot x_c^2}\n",
    "= 1 - 1 + \\frac{\\ddot x_c x_c}{\\dot x_c^2} = \\frac{\\ddot x_c x_c}{\\dot x_c^2} \n",
    "$$\n",
    "\n",
    "$$\n",
    "\\frac{dt_c}{dt_l} = \\frac{\\dot x_c^2}{\\ddot x_c x_c}\n",
    "$$\n",
    "\n",
    "For an object undergoing constant acceleration, this also gives the expected result:\n",
    "$$\n",
    "\\frac{dt_c}{dt_l} = \\frac{(at)^2}{a(\\frac{1}{2}at^2)} = 2,\n",
    "$$\n",
    "\n",
    "i.e. the mass is caught over twice the interval it is launched."
   ]
  },
  {
   "cell_type": "markdown",
   "metadata": {},
   "source": [
    "### At the Launcher\n",
    "\n",
    "We have two systems, a launcher and a catcher. \n",
    "The launcher applies a fixed impulse $F_Ldt_l$ accelerating mass $dm$ up to velocity $v_c = \\dot x_c$. \n",
    "The catcher is undergoing nonuniform acceleration.\n",
    "\n",
    "$$\n",
    "F_L = \\frac{dp_l}{dt_l} = \\dot x_c \\frac{dm}{dt_l}\n",
    "$$\n",
    "\n",
    "$$\n",
    "\\frac{dm}{dt_l} = \\frac{F_L}{\\dot x_c}\n",
    "$$\n"
   ]
  },
  {
   "cell_type": "markdown",
   "metadata": {
    "deletable": true,
    "editable": true
   },
   "source": [
    "### At the Catcher\n",
    "\n",
    "In this model, the catcher will eject mass the instant it receives it. This means the spacecraft never accumulates excess ejection mass. The catcher will however have a variable 'ejector' (engine) mass since it will be required to eject at an ever decresing rate. \n",
    "\n",
    "The thrust the catcher produces is given by:\n",
    "\n",
    "$$\n",
    "T_c = v_e\\frac{dm}{dt_c}\n",
    "$$\n",
    "\n",
    "The mass of the catcher is given by\n",
    "\n",
    "$$\n",
    "m_{c}(t_c) = m_0 + m_{e}(t_c),\n",
    "$$\n",
    "\n",
    "where $m_0$ is the base catcher mass and $m_e$ is the ejector mass.\n",
    "\n",
    "Given some ejector thrust to weight ratio, $\\frac{T}{W}$, it is easy to calculate the $m_{e}(t_c)$:\n",
    "\n",
    "$$\n",
    "m_{e} = \\frac{T}{(\\frac{T}{W})g} = \\frac{v_e\\frac{dm}{dt_c}}{\\tau}\n",
    "$$\n",
    "\n",
    "where $\\tau = \\frac{T}{W}g$ is the thrust to mass ratio.\n",
    "\n",
    "So,\n",
    "\n",
    "$$\n",
    "m_c = m_0 + \\frac{v_e\\frac{dm}{dt_c}}{\\tau}\n",
    "$$\n"
   ]
  },
  {
   "cell_type": "markdown",
   "metadata": {},
   "source": [
    "### Equation of Motion of the Catcher\n",
    "\n",
    "The acceleration of the catcher is given by\n",
    "\n",
    "$$\n",
    "a_c = \\ddot x_c = \\frac{F}{m} = \\frac{T_c}{m_{c}} = \\frac{v_e\\frac{dm}{dt_c}}{m_0 + \\frac{v_e\\frac{dm}{dt_c}}{\\tau}}.\n",
    "$$\n",
    "\n",
    "Note: We will assume that when the excess ejector mass is jetisoned it has the same velocity as the catcher and hence considerations like those used when deriving the rocket equation (i.e. the relative velocity of the ejected mass compared the main body mass) are not relevant.\n",
    "\n",
    "Using the relationship between $t_l$ and $t_c$ we can relate $\\frac{dm}{dt_l}$ to $\\frac{dm}{dt_c}$ and have an equation of motion for our spacecraft in terms of the mass launch rate:\n",
    "\n",
    "$$\n",
    "\\frac{dm}{dt_c} = \\frac{dm}{dt_l} \\frac{dt_l}{dt_c} = \\frac{F_L}{\\dot x_c} \\frac{\\ddot x_c x_c}{\\dot x_c^2} = F_L \\frac{\\ddot x_c x_c}{\\dot x_c^3}\n",
    "$$\n",
    "\n",
    "Our catcher's equation of motion can therefore be written as, \n",
    "\n",
    "$$\n",
    "\\ddot x_c = \\frac{v_e F_L \\ddot x_c x_c}{\\dot x_c^3 (m_0 + \\frac{v_e F_L}{\\tau} \\frac{ \\ddot x_c x_c}{\\dot x_c^3})}\n",
    "$$\n",
    "\n",
    "The quantity $v_e F_L$ has units of power and is defined in terms of two constants of our system. Defining this quantity as $P_s$ and rearranging for $\\ddot x$:\n",
    "\n",
    "$$\n",
    "\\ddot x_c  = \\tau - \\frac{\\tau m_0}{P_s}\\frac{\\dot x_c^3}{x_c} = \\tau \\Bigr( 1 - \\frac{m_0}{P_s}\\frac{\\dot x_c^3}{x_c} \\Bigr)\n",
    "$$\n",
    "\n",
    "Here we have second order, non linear ODE. "
   ]
  },
  {
   "cell_type": "markdown",
   "metadata": {},
   "source": [
    "### Solving the ODE\n",
    "\n",
    "Below, a solver has been used to solve the differential equation, and both $x_c$ and $\\dot x_c$ have been plotted as a function of time."
   ]
  },
  {
   "cell_type": "code",
   "execution_count": 15,
   "metadata": {
    "collapsed": false
   },
   "outputs": [
    {
     "name": "stderr",
     "output_type": "stream",
     "text": [
      "C:\\Users\\user\\AppData\\Local\\Enthought\\Canopy\\User\\lib\\site-packages\\ipykernel_launcher.py:22: DeprecationWarning: object of type <type 'float'> cannot be safely interpreted as an integer.\n"
     ]
    }
   ],
   "source": [
    "from scipy.integrate import odeint\n",
    "import numpy\n",
    "\n",
    "F_L = 240000\n",
    "m_0 = 100\n",
    "g = 9.81\n",
    "c = 3e8\n",
    "v_e = 37000\n",
    "YEAR_S = 3.154e7\n",
    "v_receding = 11e3\n",
    "AU = 1.496e8\n",
    "T_W = 180\n",
    "\n",
    "tau = T_W * g\n",
    "P_s = v_e * F_L\n",
    "\n",
    "def dU_dt(U, t):  # EoM of the catcher\n",
    "    #Here U is a vector such that x = U[0] and z = U[1]. This function should return [y',z']\n",
    "    return[U[1], tau *(1 - m_0 * U[1]**3 / ( P_s * U[0]))]\n",
    "\n",
    "U0 = [1, v_receding]        # Will need to discuss the model's sensitivity to initial conditions - What happens at x = 0?   \n",
    "ts = numpy.linspace(1, 10 * YEAR_S, 1e5)\n",
    "Us = odeint(dU_dt, U0, ts)\n",
    "xs = Us[:,0]\n",
    "vs = Us[:,1]"
   ]
  },
  {
   "cell_type": "code",
   "execution_count": 16,
   "metadata": {
    "collapsed": false
   },
   "outputs": [
    {
     "data": {
      "image/png": "[encoded data removed]",
      "text/plain": [
       "<matplotlib.figure.Figure at 0xa8259e8>"
      ]
     },
     "metadata": {},
     "output_type": "display_data"
    }
   ],
   "source": [
    "import matplotlib.pyplot as pyplot\n",
    "\n",
    "pyplot.figure(1)\n",
    "\n",
    "pyplot.plot(ts / YEAR_S , xs / AU)\n",
    "pyplot.xlabel('Time (Years)')\n",
    "pyplot.ylabel('Displacement (AU)')\n",
    "pyplot.show()"
   ]
  },
  {
   "cell_type": "code",
   "execution_count": 17,
   "metadata": {
    "collapsed": false
   },
   "outputs": [
    {
     "data": {
      "image/png": "[encoded data removed]",
      "text/plain": [
       "<matplotlib.figure.Figure at 0xa817da0>"
      ]
     },
     "metadata": {},
     "output_type": "display_data"
    }
   ],
   "source": [
    "pyplot.figure(2)\n",
    "\n",
    "pyplot.plot(ts / YEAR_S, vs / c )\n",
    "pyplot.xlabel('Time (Year)')\n",
    "pyplot.ylabel('Velocity (c)')\n",
    "pyplot.show()"
   ]
  },
  {
   "cell_type": "markdown",
   "metadata": {},
   "source": []
  }
 ],
 "metadata": {
  "kernelspec": {
   "display_name": "Python 2",
   "language": "python",
   "name": "python2"
  },
  "language_info": {
   "codemirror_mode": {
    "name": "ipython",
    "version": 2
   },
   "file_extension": ".py",
   "mimetype": "text/x-python",
   "name": "python",
   "nbconvert_exporter": "python",
   "pygments_lexer": "ipython2",
   "version": "2.7.10"
  }
 },
 "nbformat": 4,
 "nbformat_minor": 2
}
