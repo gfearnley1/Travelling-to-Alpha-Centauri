{
 "cells": [
  {
   "cell_type": "markdown",
   "metadata": {},
   "source": [
    "#### Simple Model\n",
    "\n",
    "Assuming the pellets are travelling at a constant speed, and the spacecraft has a constant acceleration, the pellets have to be launched at t/2 for the spacecraft to receive them at time t. This implies pellets need to be launched at twice the rate they are caught. This model of course doesnt tell us anything about how long the laser is shining on the pellets for.  \n",
    "\n",
    "#### A more complete Picture \n",
    "\n",
    "The acceleration we are capable of imparting to the pellet is limited by the laser power. Assuming the pellets travel at a constant speed the whole journey, or in other words that they were accelerated infinitely fast up to their constant speed, we found the pellets needed to be launched at twice the rate they are caught. Realising that our acceleration is in fact finite, we have to allow the pellets more time to acclerate up to their required speed. This actually means the launch rate is greater than double the rate at which the fuel pellets are caught. Since the velocity of the spacecraft is increasing linearly (constant acceleration) the time the laser needs to accelerate the pellets up to the required speed also increases linearly. \n",
    "\n",
    "We can imagine a modified case of that specified above. The laser shines on the pellet some time, $\\Delta t$ before it would be launched in the previous model, and would continue to shine for a time $\\Delta t$ after this moment, reaching the desired speed after this point ensuring it has travelled through the same distance. Using simply the expression for constant acceleration, it is apparent that the pellet will need to be launched $\\Delta t = \\frac{v}{2a} $ before it would be launched in the simpler model, giving it a total acceleration time of $2\\Delta t$.\n",
    "\n",
    "Since we only have one laser and a constraint in terms of how often the spacecraft wants to recieve fuel pellets, the limiting case is therefore when the laser has no idle time, i.e. as soon as it stops shining on one pellet it launches another. The last pellet launched will require the largest acceleration time (since it has to reach the highest velocity) this has to happen for the final launch.\n",
    "\n",
    "We can imagine that at each launch time calulcated in the previous model, there is a time $ \\frac{t_b}{4} $ either side of where the laser is allowed to be on (total width $ \\frac{t_b}{2} $ ), acclerating the pellet. Given the linearity of the model, if one where to equal or exceed this somewhere along the line, the following pellet would not have time to get up to speed. It is apparent therefore that the laser will have $ \\frac{t_b}{2}$ to get the final pellet up to the desired speed. \n",
    "\n",
    "We can now find the laser power necessary to do this given we know $t_b$."
   ]
  }
 ],
 "metadata": {
  "kernelspec": {
   "display_name": "Python 2",
   "language": "python",
   "name": "python2"
  },
  "language_info": {
   "codemirror_mode": {
    "name": "ipython",
    "version": 2
   },
   "file_extension": ".py",
   "mimetype": "text/x-python",
   "name": "python",
   "nbconvert_exporter": "python",
   "pygments_lexer": "ipython2",
   "version": "2.7.10"
  }
 },
 "nbformat": 4,
 "nbformat_minor": 2
}
