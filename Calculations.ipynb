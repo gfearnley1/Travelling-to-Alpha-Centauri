{
 "cells": [
  {
   "cell_type": "markdown",
   "metadata": {
    "deletable": true,
    "editable": true
   },
   "source": [
    "# Travelling to Alpha Centauri\n",
    "\n",
    "This notebook performs calculations to evaluate the feasibility of travelling to alpha centauri using a laser array to propel fuel pellets to a craft which are then burnt to accelerate the craft up to speeds of the order 0.1c\n",
    "\n",
    "__Section 1__ uses the work done in Breakthrough starshot to calculate the various quantities associated with purely using the laser to accelerate a craft with a photon sail up to some speed\n",
    "\n",
    "__Section 2__ Takes the most simple model of a constantly accelerating craft, which receives fuel pellets at regular intervals of $t_b$. \n",
    "\n",
    "__Section 3__ addresses some of the inaccuracies with this model by sending up variable mass payloads to the craft\n",
    "\n",
    "__Section 4__ takes the two previous models and makes them continuous"
   ]
  },
  {
   "cell_type": "markdown",
   "metadata": {
    "deletable": true,
    "editable": true
   },
   "source": [
    "## Section 1"
   ]
  },
  {
   "cell_type": "code",
   "execution_count": 1,
   "metadata": {
    "collapsed": false,
    "deletable": true,
    "editable": true
   },
   "outputs": [],
   "source": [
    "from __future__ import division \n",
    "import numpy"
   ]
  },
  {
   "cell_type": "markdown",
   "metadata": {
    "deletable": true,
    "editable": true
   },
   "source": [
    "__Calculating $v_0$ and $t_0$__\n",
    "\n",
    "This section calculates time taken for the size of the laser beam, which spreads due to diffraction, to equal the size of the sail, $t_0$, and the velocity of the spacecraft at this point, $v_0$. "
   ]
  },
  {
   "cell_type": "markdown",
   "metadata": {
    "deletable": true,
    "editable": true
   },
   "source": [
    "Constant values:"
   ]
  },
  {
   "cell_type": "code",
   "execution_count": 2,
   "metadata": {
    "collapsed": true,
    "deletable": true,
    "editable": true
   },
   "outputs": [],
   "source": [
    "c = 2.99792458e8\n",
    "AU = 1.496e11\n",
    "YEAR_S = 3.154e7\n",
    "S_AC = 4.367"
   ]
  },
  {
   "cell_type": "code",
   "execution_count": 3,
   "metadata": {
    "collapsed": false,
    "deletable": true,
    "editable": true
   },
   "outputs": [],
   "source": [
    "# Laser Array Specification\n",
    "d = 10e3\n",
    "wavelength = 1e-6\n",
    "P_0_Laser = 70e9       # input laser power  \n",
    "\n",
    "# Sail Specification\n",
    "h = 1e-6\n",
    "rho = 1.4e3\n",
    "\n",
    "def starshot(P, M):\n",
    "    # This function calculates the acceleration of the craft during its constant acceleration period, its final velocity \n",
    "    # its displacment the time it takes and the total journey time subject to the above specifications\n",
    "    \n",
    "    m_s = M / 2\n",
    "    D = numpy.sqrt( m_s / (h * rho))\n",
    "    L_0 = d * D / (2 * wavelength)\n",
    "    a_0 = 2 * P / ( M * c)\n",
    "    v_0 = numpy.sqrt( 2 * a_0 * L_0 )\n",
    "    t_0 = v_0 / a_0\n",
    "    journey_time = ((S_AC * c * YEAR_S - L_0) / v_0 + t_0) \n",
    "    \n",
    "    return t_0 , L_0 , v_0 , a_0, journey_time, D  \n"
   ]
  },
  {
   "cell_type": "code",
   "execution_count": 4,
   "metadata": {
    "collapsed": false,
    "deletable": true,
    "editable": true
   },
   "outputs": [
    {
     "name": "stdout",
     "output_type": "stream",
     "text": [
      "700.0\n",
      "267.261241912\n"
     ]
    },
    {
     "data": {
      "text/plain": [
       "'t_0 = 0.0339 years, L_0 = 8.9 AU, v_0 = 0.0083 c, a_0 = 2.3 m/s^2, journey time = 524.10 Years'"
      ]
     },
     "execution_count": 4,
     "metadata": {},
     "output_type": "execute_result"
    }
   ],
   "source": [
    "print P_0_Laser / d**2\n",
    "\n",
    "# input Spacecraft mass - this includes sail mass and payload mass\n",
    "m_spacecraft = 200                              \n",
    "\n",
    "t_0, L_0, v_0, a_0, journey_time, D = starshot(P_0_Laser , m_spacecraft)\n",
    "\n",
    "print D\n",
    "\"t_0 = %.4f years, L_0 = %.1f AU, v_0 = %.4f c, a_0 = %.1f m/s^2, journey time = %.2f Years\" % (t_0 / YEAR_S, L_0 / AU, v_0/c , a_0, journey_time / YEAR_S)"
   ]
  },
  {
   "cell_type": "markdown",
   "metadata": {
    "deletable": true,
    "editable": true
   },
   "source": [
    "## Section 2 - Constant Acceleration, Fixed Mass and Cadence Model\n",
    "\n",
    "http://localhost:8888/notebooks/Constant%20Acceleration%20Model.ipynb"
   ]
  },
  {
   "cell_type": "markdown",
   "metadata": {
    "deletable": true,
    "editable": true
   },
   "source": [
    "Here we are using a simple model of a constantly accelerating spacecraft to calculate how often pellets will need to be launched to get the spacecraft up to 0.1c within a certain time frame. "
   ]
  },
  {
   "cell_type": "code",
   "execution_count": 5,
   "metadata": {
    "collapsed": true,
    "deletable": true,
    "editable": true
   },
   "outputs": [],
   "source": [
    "c = 2.99792458e8\n",
    "AU = 1.496e11\n",
    "YEAR_S = 3.154e7\n",
    "S_AC = 4.367 # distance to alpha centauri in light years"
   ]
  },
  {
   "cell_type": "code",
   "execution_count": 6,
   "metadata": {
    "collapsed": true,
    "deletable": true,
    "editable": true
   },
   "outputs": [],
   "source": [
    "import sympy\n",
    "from sympy import *\n",
    "from __future__ import division \n",
    "init_printing(use_unicode=True)"
   ]
  },
  {
   "cell_type": "markdown",
   "metadata": {
    "deletable": true,
    "editable": true
   },
   "source": [
    "Based on the overall desired journey time and the desired top speed, we can calculate the acceleration the spacecraft needs, how long it needs to accelerate for, and the distance over which it accelerated to fulfill these constraints. \n",
    "\n",
    "This is done by solving the following (SUVAT) equations:\n",
    "\n",
    "$\n",
    "s_{ac} = ut_a + \\frac{1}{2} a t_a^2 + v_{max} (t_{j} - t_a)\n",
    "$\n",
    "\n",
    "$\n",
    "v_{max} = u + a t_a\n",
    "$\n",
    "\n",
    "$\n",
    "v^2 = u^2 + 2as_a\n",
    "$\n",
    "\n",
    "where $u$ is the initial velocity (taken to be zero below), $s_{ac}$ is the distance to alpha centauri, $a$ is the acceleration of the space craft during its acceleration phase, $t_a$ is the time for which this acceleration lasts, $v_{max}$ is the desired maximum velocity, $t_j$ is the total journey time."
   ]
  },
  {
   "cell_type": "code",
   "execution_count": 7,
   "metadata": {
    "collapsed": false,
    "deletable": true,
    "editable": true
   },
   "outputs": [
    {
     "data": {
      "text/plain": [
       "'av_v = 0.087 c'"
      ]
     },
     "execution_count": 7,
     "metadata": {},
     "output_type": "execute_result"
    }
   ],
   "source": [
    "t_j = 50                                 # time for journey in years\n",
    "av_v = S_AC * YEAR_S / (t_j * YEAR_S)    # average velocity of spacecraft if it is to complete the journey \n",
    "\"av_v = %.3f c\" % (av_v)                 # in the requried time, given in units of c"
   ]
  },
  {
   "cell_type": "markdown",
   "metadata": {
    "deletable": true,
    "editable": true
   },
   "source": [
    "Please enter a $v_{max}$ that is larger than the $v_{av}$, to allow the spacecraft some acceleration time: "
   ]
  },
  {
   "cell_type": "code",
   "execution_count": 8,
   "metadata": {
    "collapsed": false,
    "deletable": true,
    "editable": true
   },
   "outputs": [
    {
     "data": {
      "image/png": "[encoded data removed]",
      "text/latex": [
       "$$\\left ( t_{a} = 12.66 years, \\quad a = 0.0751 ms^{-2}, \\quad s_{a} = 40008.7 AU\\right )$$"
      ],
      "text/plain": [
       "(tₐ = 12.66⋅years, a = 0.0751⋅ms__{-2}, sₐ = 40008.7⋅AU)"
      ]
     },
     "execution_count": 8,
     "metadata": {},
     "output_type": "execute_result"
    }
   ],
   "source": [
    "# desired top speed\n",
    "v_max = 0.1 * c    \n",
    "\n",
    "# the variables to be solved for  \n",
    "t_a, a, s_a = symbols('t_a a s_a') \n",
    "\n",
    "# enter desired units here in symbols bracket\n",
    "t_unit, a_unit, s_unit = symbols('years ms^{-2} AU') \n",
    "\n",
    "Eq1 = Eq(S_AC * c * YEAR_S, -0.5 * a * t_a**2 + v_max * (t_j * YEAR_S))\n",
    "Eq2 = Eq(a, v_max / t_a) \n",
    "Eq3 = Eq(v_max**2, 2* a * s_a)\n",
    "\n",
    "solns_ta_a_sa = solve([Eq1, Eq2, Eq3], (t_a, a, s_a))\n",
    "Eq_ta = Eq(t_a, (solns_ta_a_sa[0][0] / YEAR_S).round(3) * t_unit )\n",
    "Eq_a = Eq(a, solns_ta_a_sa[0][1].round(4) * a_unit)\n",
    "Eq_sa = Eq(s_a, (solns_ta_a_sa[0][2] / AU).round(1) * s_unit)\n",
    "\n",
    "Eq_ta, Eq_a, Eq_sa"
   ]
  },
  {
   "cell_type": "code",
   "execution_count": 9,
   "metadata": {
    "collapsed": false,
    "deletable": true,
    "editable": true
   },
   "outputs": [
    {
     "data": {
      "image/png": "[encoded data removed]",
      "text/latex": [
       "$$50.0$$"
      ],
      "text/plain": [
       "50.0000000000000"
      ]
     },
     "execution_count": 9,
     "metadata": {},
     "output_type": "execute_result"
    }
   ],
   "source": [
    "# Calculate Joruney Time\n",
    "\n",
    "(S_AC * c * YEAR_S - solns_ta_a_sa[0][2]) / (v_max * YEAR_S) + solns_ta_a_sa[0][0] / YEAR_S\n",
    "# 0.2 * solns_ta_a_sa[0][0]/YEAR_S + 0.4 * (55-solns_ta_a_sa[0][0]/YEAR_S )"
   ]
  },
  {
   "cell_type": "markdown",
   "metadata": {
    "deletable": true,
    "editable": true
   },
   "source": [
    "There is obviously a play-off here between the desired maximum velocity and the acceleration. Demanding a lower maximum velocity for the same journey time demands a larger acceleration. This puts more emphasis on the thurst capabilities of the engine, and also means the"
   ]
  },
  {
   "cell_type": "code",
   "execution_count": 10,
   "metadata": {
    "collapsed": false,
    "deletable": true,
    "editable": true
   },
   "outputs": [
    {
     "data": {
      "image/png": "[encoded data removed]",
      "text/latex": [
       "$$\\left ( T = 7.51, \\quad dm/dt = 0.002\\right )$$"
      ],
      "text/plain": [
       "(T = 7.51, dm/dt = 0.002)"
      ]
     },
     "execution_count": 10,
     "metadata": {},
     "output_type": "execute_result"
    }
   ],
   "source": [
    "m_spacecraft = 100\n",
    "m, v_e, T, dm_dt = symbols('m, v_e T dm/dt')                # defining symbol to define total mass of spacecraft\n",
    "\n",
    "                  # Just an average exhaust velocty based on numbers found on the web\n",
    "\n",
    "thrust_expr = m * a\n",
    "thrust = thrust_expr.subs([(a, solns_ta_a_sa[0][1]), (m, m_spacecraft)])   # enter value for total mass of spacecraft \n",
    "thrust_eq = Eq(T, thrust.round(2))\n",
    "\n",
    "dm_dt_expr = T / v_e\n",
    "dm_dt_val = dm_dt_expr.subs([(T, thrust), (v_e, 3700)])\n",
    "dm_dt_eq = Eq(dm_dt, dm_dt_val.round(4)) # enter value for exhaust velocity - this will vary depending on engine type\n",
    "\n",
    "thrust_eq, dm_dt_eq\n",
    "#\"thrust = %.2f N, dm_dt = %.4f\" % (thrust, dm_dt)"
   ]
  },
  {
   "cell_type": "markdown",
   "metadata": {
    "deletable": true,
    "editable": true
   },
   "source": [
    "Here, I plan to include data on the different types of rocket engines. From a plot of their thrust vs mass, I will be able to deduce the mass of the rocket necessary to provide the above thrust. From that mass, it may be possible to rule out certain rocket engine types, based on the fraction of the total spacecraft mass they would be. If there are multiple options, further analysis will be done to evaluate which is optimal. Since the rocket engine will be firing for a prolonged period, coking will be a very important aspect to consider.\n",
    "\n",
    "Doing a very quick analysis with Excel, with the numbers given above, I have calculated the mass of the engine."
   ]
  },
  {
   "cell_type": "code",
   "execution_count": 11,
   "metadata": {
    "collapsed": true,
    "deletable": true,
    "editable": true
   },
   "outputs": [],
   "source": [
    "m_engine = 130"
   ]
  },
  {
   "cell_type": "markdown",
   "metadata": {
    "deletable": true,
    "editable": true
   },
   "source": [
    "Defining the mass of the fuel pellet, we will get a burn time:"
   ]
  },
  {
   "cell_type": "code",
   "execution_count": 12,
   "metadata": {
    "collapsed": false,
    "deletable": true,
    "editable": true
   },
   "outputs": [
    {
     "data": {
      "image/png": "[encoded data removed]",
      "text/latex": [
       "$$\\left ( t_{b} = 4928.1, \\quad n_{b} = 81026.1\\right )$$"
      ],
      "text/plain": [
       "(t_b = 4928.1, n_b = 81026.1)"
      ]
     },
     "execution_count": 12,
     "metadata": {},
     "output_type": "execute_result"
    }
   ],
   "source": [
    "m_p, t_b, n_b = symbols('m_p t_b n_b')\n",
    "\n",
    "t_b_expr = m_p / dm_dt  # calculating burn time\n",
    "t_b_val = t_b_expr.subs([(m_p , (m_spacecraft * 0.1)), (dm_dt, dm_dt_val)]) \n",
    "t_b_eq = Eq(t_b, t_b_val.round(1))\n",
    "\n",
    "n_b_expr = t_a / t_b\n",
    "n_b_val = n_b_expr.subs([(t_a, solns_ta_a_sa[0][0]), (t_b, t_b_val.round(0))])\n",
    "n_b_eq = Eq(n_b, n_b_val.round(1))\n",
    "\n",
    "t_b_eq, n_b_eq                         "
   ]
  },
  {
   "cell_type": "markdown",
   "metadata": {
    "deletable": true,
    "editable": true
   },
   "source": [
    "__Wording How the Pellets are accelerated__\n",
    "\n",
    "http://localhost:8888/notebooks/Wording%20How%20the%20pellets%20are%20accelerated.ipynb"
   ]
  },
  {
   "cell_type": "code",
   "execution_count": 13,
   "metadata": {
    "collapsed": false,
    "deletable": true,
    "editable": true
   },
   "outputs": [
    {
     "data": {
      "image/png": "[encoded data removed]",
      "text/latex": [
       "$$\\left ( a_{p} = 12.2 Kms^{-2}, \\quad P_{0} = 18237.3 GW\\right )$$"
      ],
      "text/plain": [
       "(a_p = 12.2⋅Kms__{-2}, P₀ = 18237.3⋅GW)"
      ]
     },
     "execution_count": 13,
     "metadata": {},
     "output_type": "execute_result"
    }
   ],
   "source": [
    "v_p_last_expr = v_max - a * t_b                               # The velocity the last pellet has to reach \n",
    "v_p_last = v_p_last_expr.subs(a, solns_ta_a_sa[0][1])  \n",
    "\n",
    "a_p, P_0 = symbols('a_p P_0')\n",
    "P_0_unit, a_p_unit = symbols('GW Kms^{-2}')\n",
    "\n",
    "a_p_expr = v_p_last / (t_b/2)\n",
    "a_p_val = a_p_expr.subs(t_b, t_b_val)\n",
    "\n",
    "P_0_expr = a_p * m_p * c / 2 \n",
    "P_0_val = P_0_expr.subs([(m_p, (m_spacecraft * 0.1)), (a_p, a_p_val)])       # here I have doubled the mass from before since it is also important\n",
    "                                                             # to consider the sail mass\n",
    "\n",
    "Eq(a_p, (a_p_val/1000).round(1)*a_p_unit), Eq(P_0, (P_0_val / 1e9).round(1)*P_0_unit)"
   ]
  },
  {
   "cell_type": "code",
   "execution_count": 14,
   "metadata": {
    "collapsed": false,
    "deletable": true,
    "editable": true
   },
   "outputs": [
    {
     "data": {
      "image/png": "[encoded data removed]",
      "text/latex": [
       "$$3.16504279335799$$"
      ],
      "text/plain": [
       "3.16504279335799"
      ]
     },
     "execution_count": 14,
     "metadata": {},
     "output_type": "execute_result"
    }
   ],
   "source": [
    "# What about the total laser shine time? \n",
    "((t_b_val/2) / 2 * n_b_val) / YEAR_S"
   ]
  },
  {
   "cell_type": "code",
   "execution_count": 15,
   "metadata": {
    "collapsed": false,
    "deletable": true,
    "editable": true
   },
   "outputs": [
    {
     "data": {
      "image/png": "[encoded data removed]",
      "text/latex": [
       "$$0.000383824815623214$$"
      ],
      "text/plain": [
       "0.000383824815623214"
      ]
     },
     "execution_count": 15,
     "metadata": {},
     "output_type": "execute_result"
    }
   ],
   "source": [
    "# with a 70 GW laser, what speed can we get a fuel pellet of 10kg up to?\n",
    "\n",
    "F_L2 = 2 * 70e9 / c \n",
    "F_L2 / 10 * (t_b_val / 2)  / c"
   ]
  },
  {
   "cell_type": "markdown",
   "metadata": {
    "deletable": true,
    "editable": true
   },
   "source": [
    "A check that needs to be performed, is one to see if the laser dot size completely fills the sail carrying the fuel pellets for the entire journey. "
   ]
  },
  {
   "cell_type": "markdown",
   "metadata": {
    "collapsed": false,
    "deletable": true,
    "editable": true
   },
   "source": [
    "The inefficiency with this model: The laser array is not in use all the time - earlier pellets take little time to accelerate.\n",
    "\n",
    "It has however given us a baseline specification for the laser array (estimate 70TW for 100kg to 0.1C in 4 years)."
   ]
  },
  {
   "cell_type": "markdown",
   "metadata": {
    "deletable": true,
    "editable": true
   },
   "source": [
    "## Section 3 - Fixed Cadence, Variable Mass Model"
   ]
  },
  {
   "cell_type": "markdown",
   "metadata": {
    "deletable": true,
    "editable": true
   },
   "source": [
    "To address the inefficiency of the laser sitting idle for large periods of time, in this model the rocket will again recieve pellets at regular intervals, however the mass of fuel it receives from the pellet is going to be variable. \n",
    "\n",
    "1. The maximum amount of fuel that can be launched will be calculated.\n",
    "\n",
    "2. The size of the rocket engine will be determined by the rate at which the fuel needs to be burnt such that all of it is burnt at the end the fixed time interval.\n",
    "\n",
    "3. The change in speed this produces will be calculated using the rocket equation, since here the mass of the engine will be comparable to the size of the rocket.\n",
    "\n",
    "4. The amount of fuel that can be launched given the new speed of the rocket will be calculated. \n",
    "\n",
    "5. The new necessary size of the rocket engine will be calculated, and the extra mass from the previous engine will be jetisoned. \n",
    "\n",
    "6. the change in speed will again be calculated using the rocket equation, and so on.......\n",
    "\n",
    "Lets first say that our engine is capable of producing 4 times the thrust it was in the previous case, and therefore is able to burn fuel at 4 times the rate. This incurs a very small mass penalty in terms of needing a larger rocket engine mass. \n",
    "\n",
    "We will take the receding velocity of the spacecraft to be equal to that of the change in velocity of an object in low Earth orbit to get on a Hohmann transfer orbit trajectory to Mars, $11.3kms^{-1}$."
   ]
  },
  {
   "cell_type": "code",
   "execution_count": 16,
   "metadata": {
    "collapsed": true,
    "deletable": true,
    "editable": true
   },
   "outputs": [],
   "source": [
    "v_0_receding = 11.3e3    "
   ]
  },
  {
   "cell_type": "markdown",
   "metadata": {
    "deletable": true,
    "editable": true
   },
   "source": [
    "Now the question is what mass of pellet can I launch for the spacecraft to catch, assuming the laser is switched on for the entire time i.e. the laser has time $t_b/2$ to launch the next mass pellet. \n",
    "\n",
    "Using\n",
    "\n",
    "$\n",
    "v = at \n",
    "$\n",
    "\n",
    "$\n",
    "F = ma \n",
    "$\n",
    "\n",
    "$\n",
    "F = \\frac{2P_0}{c}\n",
    "$"
   ]
  },
  {
   "cell_type": "markdown",
   "metadata": {
    "deletable": true,
    "editable": true
   },
   "source": [
    "Rather than using the EXCEL plot here just going to take the engine with the highest thrust to weight ratio (Merlin 1D), with T/W ratio of 180.1"
   ]
  },
  {
   "cell_type": "code",
   "execution_count": 17,
   "metadata": {
    "collapsed": false,
    "deletable": true,
    "editable": true
   },
   "outputs": [],
   "source": [
    "Delta_v, m_wet, m_dry, v_0 = symbols('\\Deltav m_wet m_dry v_0')\n",
    "v_final_expr = v_0 + v_e * log(m_wet/m_dry) # Rocket Equation \n",
    "v_func = lambdify([v_0, v_e, m_wet, m_dry], v_final_expr, \"math\")"
   ]
  },
  {
   "cell_type": "code",
   "execution_count": 18,
   "metadata": {
    "collapsed": false,
    "deletable": true,
    "editable": true
   },
   "outputs": [],
   "source": [
    "n_b_val = int(n_b_val)"
   ]
  },
  {
   "cell_type": "code",
   "execution_count": 19,
   "metadata": {
    "collapsed": false,
    "deletable": true,
    "editable": true
   },
   "outputs": [],
   "source": [
    "import numpy\n",
    "\n",
    "v_e_vals = numpy.logspace(3.57, 5, 5)\n",
    "\n",
    "v_ve = numpy.zeros((len(v_e_vals), n_b_val + 1))\n",
    "x_ve = numpy.zeros((len(v_e_vals), n_b_val + 1))\n",
    "t_ve = numpy.zeros((len(v_e_vals), n_b_val + 1))\n",
    "m_fuel_ve = numpy.zeros((len(v_e_vals), n_b_val + 1))\n",
    "\n",
    "\n",
    "for j in range(len(v_e_vals)):\n",
    "    v_e_val = v_e_vals[j]\n",
    "    \n",
    "    t_b_desired = t_b_val                               \n",
    "    TW_ratio = 180.1\n",
    "    g = 9.81\n",
    "    m_spacecraft = 100\n",
    "    v_receding = 11.3e3\n",
    "\n",
    "    m_launched_expr = 2 * P_0 * (t_b/2) / (c * v_0)             \n",
    "    m_func = lambdify([P_0, t_b, v_0], m_launched_expr, \"numpy\")\n",
    "\n",
    "    T_0_expr = dm_dt * v_e         # Beware: there is another expression for thrust in the FCFM model , thrust_expr                                      \n",
    "    T_func = lambdify([dm_dt, v_e], T_0_expr, \"numpy\")\n",
    "\n",
    "    m_launched = m_func(P_0_val, t_b_desired, 11.3e3)\n",
    "    m_fuel = m_launched / 2\n",
    "    dm_dt_0 = m_fuel / t_b_desired\n",
    "    T_0 = T_func(dm_dt_0, v_e_val)\n",
    "    m_engine = T_0 / (TW_ratio * g)\n",
    "\n",
    "    x_0 = 0\n",
    "    \n",
    "    v_vals = numpy.zeros(n_b_val + 1)\n",
    "    v_vals[0] = v_receding\n",
    "    \n",
    "    t_vals = numpy.zeros(n_b_val + 1)\n",
    "    t_vals[0] = 0\n",
    "    \n",
    "    m_fuel_vals = numpy.zeros(n_b_val + 1)\n",
    "    m_fuel_vals[0] = m_fuel\n",
    "    \n",
    "    x_vals = numpy.zeros(n_b_val + 1)\n",
    "    x_vals[0] = x_0\n",
    "\n",
    "    for i in range(n_b_val):\n",
    "        v_f = v_func(v_receding, v_e_val, m_fuel + m_engine + m_spacecraft, m_spacecraft + m_engine)\n",
    "        x = x_0 + (v_receding + v_f) / 2 * t_b_val\n",
    "\n",
    "        x_vals[i+1] = x\n",
    "        v_vals[i+1] = v_f\n",
    "        t_vals[i+1] = (i+1) * t_b_desired  \n",
    "\n",
    "        v_receding = v_f\n",
    "        x_0 = x\n",
    "\n",
    "        m_launched = m_func(P_0_val, t_b_desired, v_f)\n",
    "        m_fuel = m_launched / 2\n",
    "        m_fuel_vals[i+1] = m_fuel\n",
    "        dm_dt_1 = m_fuel / t_b_desired\n",
    "        T_1 = T_func(dm_dt_1, v_e_val)\n",
    "        m_engine = T_1 / (TW_ratio * g)\n",
    "\n",
    "        if v_f > 0.1 * c :\n",
    "            break \n",
    "    \n",
    "    v_ve[j,:] = v_vals\n",
    "    x_ve[j,:] = x_vals\n",
    "    t_ve[j,:] = t_vals\n",
    "    m_fuel_ve[j,:] = m_fuel_vals      "
   ]
  },
  {
   "cell_type": "markdown",
   "metadata": {
    "deletable": true,
    "editable": true
   },
   "source": [
    "Do we need to make sure that the d"
   ]
  },
  {
   "cell_type": "code",
   "execution_count": 20,
   "metadata": {
    "collapsed": false,
    "deletable": true,
    "editable": true
   },
   "outputs": [
    {
     "data": {
      "text/plain": [
       "<matplotlib.figure.Figure at 0x7aceb00>"
      ]
     },
     "metadata": {},
     "output_type": "display_data"
    }
   ],
   "source": [
    "import matplotlib.pyplot as pyplot\n",
    "\n",
    "pyplot.figure(1)\n",
    "\n",
    "for i in range(len(v_e_vals)):\n",
    "    y = numpy.trim_zeros(x_ve[i,:])\n",
    "    x = t_ve[i,:len(y)]\n",
    "    \n",
    "    pyplot.plot(x / YEAR_S, y / AU, label = str(v_e_vals[i]))\n",
    "\n",
    "pyplot.xlabel('Time [Years]')\n",
    "pyplot.ylabel('Distance (AU)')\n",
    "pyplot.legend(title = 'Exhaust Velocity' )\n",
    "pyplot.show()\n",
    " "
   ]
  },
  {
   "cell_type": "code",
   "execution_count": 21,
   "metadata": {
    "collapsed": false,
    "deletable": true,
    "editable": true
   },
   "outputs": [
    {
     "data": {
      "image/png": "[encoded data removed]",
      "text/plain": [
       "<matplotlib.figure.Figure at 0x7adbd30>"
      ]
     },
     "metadata": {},
     "output_type": "display_data"
    }
   ],
   "source": [
    "pyplot.figure(2)\n",
    "\n",
    "a_time = numpy.zeros(len(v_e_vals))   # an array to store the times it takes the craft to rech 0.1c\n",
    "\n",
    "for i in range(len(v_e_vals)):\n",
    "    y = numpy.trim_zeros(v_ve[i,:])\n",
    "    x = t_ve[i,:len(y)]\n",
    "    \n",
    "    a_time[i] = x[-1]\n",
    "    \n",
    "    pyplot.plot(x / YEAR_S, y / c, label = str(v_e_vals[i]))\n",
    "\n",
    "pyplot.xlabel('Time [Years]')\n",
    "pyplot.ylabel('Velocity [c]')\n",
    "pyplot.legend(title = 'Exhaust Velocity' )\n",
    "\n",
    "pyplot.show()"
   ]
  },
  {
   "cell_type": "code",
   "execution_count": 22,
   "metadata": {
    "collapsed": false,
    "deletable": true,
    "editable": true
   },
   "outputs": [
    {
     "data": {
      "image/png": "[encoded data removed]",
      "text/plain": [
       "<matplotlib.figure.Figure at 0x7aceda0>"
      ]
     },
     "metadata": {},
     "output_type": "display_data"
    }
   ],
   "source": [
    "pyplot.plot(v_e_vals / 1000, a_time / YEAR_S)\n",
    "pyplot.xlabel('Exhaust Velocity ($kms^{-1}$)')\n",
    "pyplot.ylabel('Time to reach 0.1c (Years)')\n",
    "pyplot.show()"
   ]
  },
  {
   "cell_type": "code",
   "execution_count": 23,
   "metadata": {
    "collapsed": false,
    "deletable": true,
    "editable": true
   },
   "outputs": [
    {
     "data": {
      "image/png": "[encoded data removed]",
      "text/plain": [
       "<matplotlib.figure.Figure at 0x7acec50>"
      ]
     },
     "metadata": {},
     "output_type": "display_data"
    }
   ],
   "source": [
    "pyplot.figure(3)\n",
    "    \n",
    "for i in range(len(v_e_vals)):\n",
    "    y = m_fuel_ve[i,:]\n",
    "    x = t_ve[i,:]\n",
    "    \n",
    "    pyplot.loglog(x / YEAR_S , y, label = str(v_e_vals[i]))\n",
    "\n",
    "pyplot.xlabel('Time (Years)')\n",
    "pyplot.ylabel('Mass of fuel Pellet (kg)')\n",
    "pyplot.legend(title = 'Exhaust Velocity' )\n",
    "\n",
    "pyplot.show()\n"
   ]
  },
  {
   "cell_type": "markdown",
   "metadata": {
    "deletable": true,
    "editable": true
   },
   "source": [
    "## Section IV - Continuum Model\n",
    "\n",
    "In this section the above two models are turned into a continuous model.\n",
    "\n",
    "For a description of how this is done, see http://localhost:8888/notebooks/Wording%20the%20Problem.ipynb"
   ]
  },
  {
   "cell_type": "code",
   "execution_count": 24,
   "metadata": {
    "collapsed": false,
    "deletable": true,
    "editable": true
   },
   "outputs": [
    {
     "name": "stderr",
     "output_type": "stream",
     "text": [
      "C:\\Users\\user\\AppData\\Local\\Enthought\\Canopy\\User\\lib\\site-packages\\ipykernel_launcher.py:19: DeprecationWarning: object of type <type 'float'> cannot be safely interpreted as an integer.\n"
     ]
    }
   ],
   "source": [
    "from scipy.integrate import odeint\n",
    "import numpy\n",
    "\n",
    "F_L = 2 * P_0_val / c\n",
    "m_0 = m_spacecraft\n",
    "v_e = 3700\n",
    "v_0_receding = 11.3e3\n",
    "T_W = 180\n",
    "\n",
    "tau = T_W * g\n",
    "P_s = v_e * F_L\n",
    "\n",
    "def dU_dt(U, t):  # EoM of the catcher\n",
    "    #Here U is a vector such that x = U[0] and z = dx_dt = U[1]. This function should return [dx_dt, d2x_dt2]\n",
    "    return[U[1], tau * (1 - m_0 * U[1]**3 / ( P_s * U[0]))]\n",
    "\n",
    "# have define the position here such that the inital acceleration is zero\n",
    "U0 = [v_0_receding**3 * m_0 / P_s , v_0_receding]        # Will need to discuss the model's sensitivity to initial conditions - What happens at x = 0?   \n",
    "ts = numpy.linspace(1, a_time[0], 1e7)   # discuss convergence\n",
    "Us = odeint(dU_dt, U0, ts)\n",
    "xs = Us[:,0]\n",
    "vs = Us[:,1]\n"
   ]
  },
  {
   "cell_type": "code",
   "execution_count": 25,
   "metadata": {
    "collapsed": false,
    "deletable": true,
    "editable": true
   },
   "outputs": [
    {
     "data": {
      "image/png": "[encoded data removed]",
      "text/plain": [
       "<matplotlib.figure.Figure at 0x12c80c18>"
      ]
     },
     "metadata": {},
     "output_type": "display_data"
    }
   ],
   "source": [
    "import matplotlib.pyplot as pyplot\n",
    "\n",
    "pyplot.figure(1)\n",
    "\n",
    "pyplot.plot(ts / YEAR_S , xs / AU)\n",
    "pyplot.xlabel('Time (Years)')\n",
    "pyplot.ylabel('Displacement (AU)')\n",
    "\n",
    "pyplot.show()"
   ]
  },
  {
   "cell_type": "code",
   "execution_count": 26,
   "metadata": {
    "collapsed": false,
    "deletable": true,
    "editable": true
   },
   "outputs": [
    {
     "data": {
      "image/png": "[encoded data removed]",
      "text/plain": [
       "<matplotlib.figure.Figure at 0x7acec18>"
      ]
     },
     "metadata": {},
     "output_type": "display_data"
    }
   ],
   "source": [
    "pyplot.figure(2)\n",
    "\n",
    "pyplot.plot(ts / YEAR_S, vs / c, label = 'Continuous' )\n",
    "\n",
    "vs_c = vs < 0.1 * c\n",
    "vs_c = vs[vs_c]\n",
    "t_c = ts[len(vs_c)] / YEAR_S    # the time it takes the craft to reach 0.1c in the continuous model.\n",
    "\n",
    "\n",
    "pyplot.plot(t_ve[0,:len(numpy.trim_zeros(v_ve[0,:]))] / YEAR_S, numpy.trim_zeros(v_ve[0,:]) / c, label = 'Discrete')\n",
    "\n",
    "'''\n",
    "P_0_val = int(P_0_val)\n",
    "a_starshot = starshot(P_0_val, 200.0)[3] \n",
    "ts_starshot = numpy.linspace(0, 0.01*YEAR_S, 100)\n",
    "vs_starshot = numpy.linspace(0, a_starshot * 0.01 *YEAR_S, len(ts_starshot)) \n",
    "\n",
    "pyplot.plot(ts_starshot / YEAR_S, vs_starshot / c)\n",
    "'''\n",
    "\n",
    "pyplot.xlabel('Time (Year)')\n",
    "pyplot.ylabel('Velocity (c)')\n",
    "pyplot.legend()\n",
    "\n",
    "pyplot.show()"
   ]
  },
  {
   "cell_type": "markdown",
   "metadata": {},
   "source": [
    "__No Time Mapping__\n",
    "\n",
    "Below is the model in which there is no time mapping. "
   ]
  },
  {
   "cell_type": "code",
   "execution_count": 27,
   "metadata": {
    "collapsed": true
   },
   "outputs": [],
   "source": [
    "def dV_dt(V, t):  # EoM of the catcher with the launcher right next to the catcher - no time mapping \n",
    "    #Here U is a vector such that x = U[0] and z = x dot = U[1]. This function should return [x dot, x double dot]\n",
    "    return[V[1], tau / ( 1 + (tau * m_0 / (v_e * F_L) ) * V[1])]\n",
    "\n",
    "V_0 = [0, 0]\n",
    "Vs = odeint(dV_dt, V_0, ts)\n",
    "V_xs = Vs[:,0]\n",
    "V_vs = Vs[:,1]"
   ]
  },
  {
   "cell_type": "code",
   "execution_count": 28,
   "metadata": {
    "collapsed": false
   },
   "outputs": [
    {
     "data": {
      "image/png": "[encoded data removed]",
      "text/plain": [
       "<matplotlib.figure.Figure at 0x147b00b8>"
      ]
     },
     "metadata": {},
     "output_type": "display_data"
    }
   ],
   "source": [
    "pyplot.plot(ts / YEAR_S , V_vs / c, label = 'No Time mapping')\n",
    "pyplot.plot(ts / YEAR_S, vs / c, label = 'Time Mapping')\n",
    "\n",
    "pyplot.xlabel('Time (Years)')\n",
    "pyplot.ylabel('Velocity (c)')\n",
    "pyplot.legend()\n",
    "\n",
    "pyplot.show()"
   ]
  },
  {
   "cell_type": "code",
   "execution_count": 31,
   "metadata": {
    "collapsed": false
   },
   "outputs": [],
   "source": [
    "no_points = int(len(ts) / 100)\n",
    "\n",
    "t_small = numpy.zeros(no_points)\n",
    "accels = numpy.zeros(no_points)\n",
    "\n",
    "for i in range(no_points):\n",
    "    t = ts[100 * i]\n",
    "    x = xs[100 * i]\n",
    "    v = vs[100 * i]\n",
    "    U = numpy.array([x, v])\n",
    "    \n",
    "    t_small[i] = t\n",
    "    accels[i] = dU_dt(U, t)[1]\n",
    "    "
   ]
  },
  {
   "cell_type": "code",
   "execution_count": 32,
   "metadata": {
    "collapsed": false
   },
   "outputs": [
    {
     "data": {
      "image/png": "[encoded data removed]",
      "text/plain": [
       "<matplotlib.figure.Figure at 0x4debf0f0>"
      ]
     },
     "metadata": {},
     "output_type": "display_data"
    }
   ],
   "source": [
    "pyplot.plot(t_small / YEAR_S, accels)\n",
    "pyplot.xlabel('Time[Years]')\n",
    "pyplot.ylabel('Acceleration $(ms^2)$')\n",
    "pyplot.xlim(-0.05,0.1)\n",
    "\n",
    "pyplot.show()"
   ]
  },
  {
   "cell_type": "code",
   "execution_count": 37,
   "metadata": {
    "collapsed": false
   },
   "outputs": [
    {
     "ename": "ValueError",
     "evalue": "x and y must have same first dimension, but have shapes (1L,) and (100000L,)",
     "output_type": "error",
     "traceback": [
      "\u001b[1;31m---------------------------------------------------------------------------\u001b[0m",
      "\u001b[1;31mValueError\u001b[0m                                Traceback (most recent call last)",
      "\u001b[1;32m<ipython-input-37-e52e98b62f35>\u001b[0m in \u001b[0;36m<module>\u001b[1;34m()\u001b[0m\n\u001b[0;32m     16\u001b[0m \u001b[1;33m\u001b[0m\u001b[0m\n\u001b[0;32m     17\u001b[0m \u001b[0mpyplot\u001b[0m\u001b[1;33m.\u001b[0m\u001b[0mplot\u001b[0m\u001b[1;33m(\u001b[0m\u001b[0mts_short\u001b[0m\u001b[1;33m,\u001b[0m \u001b[0mdm_dt_l\u001b[0m\u001b[1;33m,\u001b[0m \u001b[0mlabel\u001b[0m \u001b[1;33m=\u001b[0m \u001b[1;34m'$\\frac{dm}{dt_l}$'\u001b[0m\u001b[1;33m)\u001b[0m\u001b[1;33m\u001b[0m\u001b[0m\n\u001b[1;32m---> 18\u001b[1;33m \u001b[0mpyplot\u001b[0m\u001b[1;33m.\u001b[0m\u001b[0mplot\u001b[0m\u001b[1;33m(\u001b[0m\u001b[0mts_short\u001b[0m\u001b[1;33m,\u001b[0m \u001b[0mdm_dt_c\u001b[0m\u001b[1;33m,\u001b[0m \u001b[0mlabel\u001b[0m \u001b[1;33m=\u001b[0m \u001b[1;34m'$\\frac{dm}{dt_c}$'\u001b[0m\u001b[1;33m)\u001b[0m\u001b[1;33m\u001b[0m\u001b[0m\n\u001b[0m\u001b[0;32m     19\u001b[0m \u001b[0mpyplot\u001b[0m\u001b[1;33m.\u001b[0m\u001b[0mlegend\u001b[0m\u001b[1;33m(\u001b[0m\u001b[1;33m)\u001b[0m\u001b[1;33m\u001b[0m\u001b[0m\n\u001b[0;32m     20\u001b[0m \u001b[1;33m\u001b[0m\u001b[0m\n",
      "\u001b[1;32mC:\\Users\\user\\AppData\\Local\\Enthought\\Canopy\\User\\lib\\site-packages\\matplotlib\\pyplot.pyc\u001b[0m in \u001b[0;36mplot\u001b[1;34m(*args, **kwargs)\u001b[0m\n\u001b[0;32m   3316\u001b[0m                       mplDeprecation)\n\u001b[0;32m   3317\u001b[0m     \u001b[1;32mtry\u001b[0m\u001b[1;33m:\u001b[0m\u001b[1;33m\u001b[0m\u001b[0m\n\u001b[1;32m-> 3318\u001b[1;33m         \u001b[0mret\u001b[0m \u001b[1;33m=\u001b[0m \u001b[0max\u001b[0m\u001b[1;33m.\u001b[0m\u001b[0mplot\u001b[0m\u001b[1;33m(\u001b[0m\u001b[1;33m*\u001b[0m\u001b[0margs\u001b[0m\u001b[1;33m,\u001b[0m \u001b[1;33m**\u001b[0m\u001b[0mkwargs\u001b[0m\u001b[1;33m)\u001b[0m\u001b[1;33m\u001b[0m\u001b[0m\n\u001b[0m\u001b[0;32m   3319\u001b[0m     \u001b[1;32mfinally\u001b[0m\u001b[1;33m:\u001b[0m\u001b[1;33m\u001b[0m\u001b[0m\n\u001b[0;32m   3320\u001b[0m         \u001b[0max\u001b[0m\u001b[1;33m.\u001b[0m\u001b[0m_hold\u001b[0m \u001b[1;33m=\u001b[0m \u001b[0mwashold\u001b[0m\u001b[1;33m\u001b[0m\u001b[0m\n",
      "\u001b[1;32mC:\\Users\\user\\AppData\\Local\\Enthought\\Canopy\\User\\lib\\site-packages\\matplotlib\\__init__.pyc\u001b[0m in \u001b[0;36minner\u001b[1;34m(ax, *args, **kwargs)\u001b[0m\n\u001b[0;32m   1890\u001b[0m                     warnings.warn(msg % (label_namer, func.__name__),\n\u001b[0;32m   1891\u001b[0m                                   RuntimeWarning, stacklevel=2)\n\u001b[1;32m-> 1892\u001b[1;33m             \u001b[1;32mreturn\u001b[0m \u001b[0mfunc\u001b[0m\u001b[1;33m(\u001b[0m\u001b[0max\u001b[0m\u001b[1;33m,\u001b[0m \u001b[1;33m*\u001b[0m\u001b[0margs\u001b[0m\u001b[1;33m,\u001b[0m \u001b[1;33m**\u001b[0m\u001b[0mkwargs\u001b[0m\u001b[1;33m)\u001b[0m\u001b[1;33m\u001b[0m\u001b[0m\n\u001b[0m\u001b[0;32m   1893\u001b[0m         \u001b[0mpre_doc\u001b[0m \u001b[1;33m=\u001b[0m \u001b[0minner\u001b[0m\u001b[1;33m.\u001b[0m\u001b[0m__doc__\u001b[0m\u001b[1;33m\u001b[0m\u001b[0m\n\u001b[0;32m   1894\u001b[0m         \u001b[1;32mif\u001b[0m \u001b[0mpre_doc\u001b[0m \u001b[1;32mis\u001b[0m \u001b[0mNone\u001b[0m\u001b[1;33m:\u001b[0m\u001b[1;33m\u001b[0m\u001b[0m\n",
      "\u001b[1;32mC:\\Users\\user\\AppData\\Local\\Enthought\\Canopy\\User\\lib\\site-packages\\matplotlib\\axes\\_axes.pyc\u001b[0m in \u001b[0;36mplot\u001b[1;34m(self, *args, **kwargs)\u001b[0m\n\u001b[0;32m   1404\u001b[0m         \u001b[0mkwargs\u001b[0m \u001b[1;33m=\u001b[0m \u001b[0mcbook\u001b[0m\u001b[1;33m.\u001b[0m\u001b[0mnormalize_kwargs\u001b[0m\u001b[1;33m(\u001b[0m\u001b[0mkwargs\u001b[0m\u001b[1;33m,\u001b[0m \u001b[0m_alias_map\u001b[0m\u001b[1;33m)\u001b[0m\u001b[1;33m\u001b[0m\u001b[0m\n\u001b[0;32m   1405\u001b[0m \u001b[1;33m\u001b[0m\u001b[0m\n\u001b[1;32m-> 1406\u001b[1;33m         \u001b[1;32mfor\u001b[0m \u001b[0mline\u001b[0m \u001b[1;32min\u001b[0m \u001b[0mself\u001b[0m\u001b[1;33m.\u001b[0m\u001b[0m_get_lines\u001b[0m\u001b[1;33m(\u001b[0m\u001b[1;33m*\u001b[0m\u001b[0margs\u001b[0m\u001b[1;33m,\u001b[0m \u001b[1;33m**\u001b[0m\u001b[0mkwargs\u001b[0m\u001b[1;33m)\u001b[0m\u001b[1;33m:\u001b[0m\u001b[1;33m\u001b[0m\u001b[0m\n\u001b[0m\u001b[0;32m   1407\u001b[0m             \u001b[0mself\u001b[0m\u001b[1;33m.\u001b[0m\u001b[0madd_line\u001b[0m\u001b[1;33m(\u001b[0m\u001b[0mline\u001b[0m\u001b[1;33m)\u001b[0m\u001b[1;33m\u001b[0m\u001b[0m\n\u001b[0;32m   1408\u001b[0m             \u001b[0mlines\u001b[0m\u001b[1;33m.\u001b[0m\u001b[0mappend\u001b[0m\u001b[1;33m(\u001b[0m\u001b[0mline\u001b[0m\u001b[1;33m)\u001b[0m\u001b[1;33m\u001b[0m\u001b[0m\n",
      "\u001b[1;32mC:\\Users\\user\\AppData\\Local\\Enthought\\Canopy\\User\\lib\\site-packages\\matplotlib\\axes\\_base.pyc\u001b[0m in \u001b[0;36m_grab_next_args\u001b[1;34m(self, *args, **kwargs)\u001b[0m\n\u001b[0;32m    405\u001b[0m                 \u001b[1;32mreturn\u001b[0m\u001b[1;33m\u001b[0m\u001b[0m\n\u001b[0;32m    406\u001b[0m             \u001b[1;32mif\u001b[0m \u001b[0mlen\u001b[0m\u001b[1;33m(\u001b[0m\u001b[0mremaining\u001b[0m\u001b[1;33m)\u001b[0m \u001b[1;33m<=\u001b[0m \u001b[1;36m3\u001b[0m\u001b[1;33m:\u001b[0m\u001b[1;33m\u001b[0m\u001b[0m\n\u001b[1;32m--> 407\u001b[1;33m                 \u001b[1;32mfor\u001b[0m \u001b[0mseg\u001b[0m \u001b[1;32min\u001b[0m \u001b[0mself\u001b[0m\u001b[1;33m.\u001b[0m\u001b[0m_plot_args\u001b[0m\u001b[1;33m(\u001b[0m\u001b[0mremaining\u001b[0m\u001b[1;33m,\u001b[0m \u001b[0mkwargs\u001b[0m\u001b[1;33m)\u001b[0m\u001b[1;33m:\u001b[0m\u001b[1;33m\u001b[0m\u001b[0m\n\u001b[0m\u001b[0;32m    408\u001b[0m                     \u001b[1;32myield\u001b[0m \u001b[0mseg\u001b[0m\u001b[1;33m\u001b[0m\u001b[0m\n\u001b[0;32m    409\u001b[0m                 \u001b[1;32mreturn\u001b[0m\u001b[1;33m\u001b[0m\u001b[0m\n",
      "\u001b[1;32mC:\\Users\\user\\AppData\\Local\\Enthought\\Canopy\\User\\lib\\site-packages\\matplotlib\\axes\\_base.pyc\u001b[0m in \u001b[0;36m_plot_args\u001b[1;34m(self, tup, kwargs)\u001b[0m\n\u001b[0;32m    383\u001b[0m             \u001b[0mx\u001b[0m\u001b[1;33m,\u001b[0m \u001b[0my\u001b[0m \u001b[1;33m=\u001b[0m \u001b[0mindex_of\u001b[0m\u001b[1;33m(\u001b[0m\u001b[0mtup\u001b[0m\u001b[1;33m[\u001b[0m\u001b[1;33m-\u001b[0m\u001b[1;36m1\u001b[0m\u001b[1;33m]\u001b[0m\u001b[1;33m)\u001b[0m\u001b[1;33m\u001b[0m\u001b[0m\n\u001b[0;32m    384\u001b[0m \u001b[1;33m\u001b[0m\u001b[0m\n\u001b[1;32m--> 385\u001b[1;33m         \u001b[0mx\u001b[0m\u001b[1;33m,\u001b[0m \u001b[0my\u001b[0m \u001b[1;33m=\u001b[0m \u001b[0mself\u001b[0m\u001b[1;33m.\u001b[0m\u001b[0m_xy_from_xy\u001b[0m\u001b[1;33m(\u001b[0m\u001b[0mx\u001b[0m\u001b[1;33m,\u001b[0m \u001b[0my\u001b[0m\u001b[1;33m)\u001b[0m\u001b[1;33m\u001b[0m\u001b[0m\n\u001b[0m\u001b[0;32m    386\u001b[0m \u001b[1;33m\u001b[0m\u001b[0m\n\u001b[0;32m    387\u001b[0m         \u001b[1;32mif\u001b[0m \u001b[0mself\u001b[0m\u001b[1;33m.\u001b[0m\u001b[0mcommand\u001b[0m \u001b[1;33m==\u001b[0m \u001b[1;34m'plot'\u001b[0m\u001b[1;33m:\u001b[0m\u001b[1;33m\u001b[0m\u001b[0m\n",
      "\u001b[1;32mC:\\Users\\user\\AppData\\Local\\Enthought\\Canopy\\User\\lib\\site-packages\\matplotlib\\axes\\_base.pyc\u001b[0m in \u001b[0;36m_xy_from_xy\u001b[1;34m(self, x, y)\u001b[0m\n\u001b[0;32m    242\u001b[0m         \u001b[1;32mif\u001b[0m \u001b[0mx\u001b[0m\u001b[1;33m.\u001b[0m\u001b[0mshape\u001b[0m\u001b[1;33m[\u001b[0m\u001b[1;36m0\u001b[0m\u001b[1;33m]\u001b[0m \u001b[1;33m!=\u001b[0m \u001b[0my\u001b[0m\u001b[1;33m.\u001b[0m\u001b[0mshape\u001b[0m\u001b[1;33m[\u001b[0m\u001b[1;36m0\u001b[0m\u001b[1;33m]\u001b[0m\u001b[1;33m:\u001b[0m\u001b[1;33m\u001b[0m\u001b[0m\n\u001b[0;32m    243\u001b[0m             raise ValueError(\"x and y must have same first dimension, but \"\n\u001b[1;32m--> 244\u001b[1;33m                              \"have shapes {} and {}\".format(x.shape, y.shape))\n\u001b[0m\u001b[0;32m    245\u001b[0m         \u001b[1;32mif\u001b[0m \u001b[0mx\u001b[0m\u001b[1;33m.\u001b[0m\u001b[0mndim\u001b[0m \u001b[1;33m>\u001b[0m \u001b[1;36m2\u001b[0m \u001b[1;32mor\u001b[0m \u001b[0my\u001b[0m\u001b[1;33m.\u001b[0m\u001b[0mndim\u001b[0m \u001b[1;33m>\u001b[0m \u001b[1;36m2\u001b[0m\u001b[1;33m:\u001b[0m\u001b[1;33m\u001b[0m\u001b[0m\n\u001b[0;32m    246\u001b[0m             raise ValueError(\"x and y can be no greater than 2-D, but have \"\n",
      "\u001b[1;31mValueError\u001b[0m: x and y must have same first dimension, but have shapes (1L,) and (100000L,)"
     ]
    },
    {
     "data": {
      "image/png": "[encoded data removed]",
      "text/plain": [
       "<matplotlib.figure.Figure at 0x7c55358>"
      ]
     },
     "metadata": {},
     "output_type": "display_data"
    }
   ],
   "source": [
    "# dm_dt_l\n",
    "\n",
    "xs_short = numpy.zeros(no_points)\n",
    "vs_short = numpy.zeros(no_points)\n",
    "ts_short = numpy.zeros(no_points)\n",
    "\n",
    "for i in range(no_points):\n",
    "    xs_short = xs[100 * i]\n",
    "    vs_short = vs[100 * i]\n",
    "    ts_short = ts[100 * i]\n",
    "    \n",
    "\n",
    "dm_dt_l = F_L / vs_short\n",
    "\n",
    "dm_dt_c = F_L * accels * xs_short / vs_short**3\n",
    "\n",
    "pyplot.plot(ts_short, dm_dt_l, label = '$\\frac{dm}{dt_l}$')\n",
    "pyplot.plot(ts_short, dm_dt_c, label = '$\\frac{dm}{dt_c}$')\n",
    "pyplot.legend()\n",
    "\n",
    "pyplot.show()"
   ]
  },
  {
   "cell_type": "code",
   "execution_count": null,
   "metadata": {
    "collapsed": true
   },
   "outputs": [],
   "source": [
    "m_sc = m_0 + v_e * dm_dt_c / tau\n",
    "\n",
    "pyplot.plot(ts, m_sc)\n",
    "\n",
    "pyplot.show()"
   ]
  },
  {
   "cell_type": "markdown",
   "metadata": {
    "deletable": true,
    "editable": true
   },
   "source": [
    "## PLOTS"
   ]
  },
  {
   "cell_type": "code",
   "execution_count": null,
   "metadata": {
    "collapsed": false,
    "deletable": true,
    "editable": true
   },
   "outputs": [],
   "source": [
    "t_small = numpy.zeros(no_points)\n",
    "accels = numpy.zeros(no_points)\n",
    "\n",
    "for i in range(no_points):\n",
    "    t = ts[100 * i]\n",
    "    x = xs[100 * i]\n",
    "    v = vs[100 * i]\n",
    "    U = numpy.array([x, v])\n",
    "    \n",
    "    t_small[i] = t\n",
    "    accels[i] = dU_dt(U, t)[1]\n",
    "    "
   ]
  },
  {
   "cell_type": "code",
   "execution_count": null,
   "metadata": {
    "collapsed": false
   },
   "outputs": [],
   "source": [
    "pyplot.figure()\n",
    "\n",
    "pyplot.plot(t_small / YEAR_S, accels)\n",
    "pyplot.xlabel('Time[Years]')\n",
    "pyplot.ylabel('Acceleration $(ms^2)$')\n",
    "\n",
    "pyplot.show()"
   ]
  },
  {
   "cell_type": "code",
   "execution_count": null,
   "metadata": {
    "collapsed": false
   },
   "outputs": [],
   "source": [
    "pyplot.plot(t_small / YEAR_S, accels)\n",
    "pyplot.xlabel('Time[Years]')\n",
    "pyplot.ylabel('Acceleration $(ms^2)$')\n",
    "pyplot.xlim(-0.05,0.1)\n",
    "\n",
    "pyplot.show()"
   ]
  },
  {
   "cell_type": "code",
   "execution_count": null,
   "metadata": {
    "collapsed": false
   },
   "outputs": [],
   "source": [
    "accels[1], t_small[-1] / YEAR_S, ts[-1] / YEAR_S"
   ]
  },
  {
   "cell_type": "markdown",
   "metadata": {
    "collapsed": false,
    "deletable": true,
    "editable": true
   },
   "source": [
    "__BIN__\n",
    "\n",
    "\n",
    "\n",
    "m_engine_frac = [ (m_engine) / (m_engine + m_fuel + m_spacecraft) ]\n",
    "m_fuel_frac = [ (m_fuel) / (m_engine + m_fuel + m_spacecraft) ]\n",
    "m_spacecraft_frac = [ (m_spacecraft) / (m_engine + m_fuel + m_spacecraft)]\n",
    "\n",
    "m_engine_frac.append(m_engine / (m_engine + m_fuel + m_spacecraft)) \n",
    "m_fuel_frac.append( m_fuel / (m_engine + m_fuel + m_spacecraft)) \n",
    "m_spacecraft_frac.append( m_spacecraft / (m_engine + m_fuel + m_spacecraft)) \n",
    "\n",
    "N = 45000 / 2\n",
    "L = 45000 - 1\n",
    "\n",
    "print N\n",
    "print L\n",
    "\n",
    "m_engine_frac_plt = m_engine_frac[0:L:643]\n",
    "m_fuel_frac_plt = m_fuel_frac[0:L:643]\n",
    "m_spacecraft_frac_plt = m_spacecraft_frac[0:L:643]\n",
    "\n",
    "ind = numpy.arange(N)    # the x locations for the groups\n",
    "width = len       # the width of the bars: can also be len(x) sequence\n",
    "\n",
    "p1 = pyplot.bar(ind, m_spacecraft_frac_plt, width)\n",
    "p2 = pyplot.bar(ind, m_fuel_frac_plt, width, bottom = m_spacecraft_frac_plt)\n",
    "p3 = pyplot.bar(ind, m_engine_frac_plt, width, bottom = m_spacecraft_frac_plt + m_fuel_frac_plt)\n",
    "\n",
    "plt.ylabel('Scores')\n",
    "plt.title('Scores by group and gender')\n",
    "#plt.xticks(ind, ('t/5', '', 'G3', 'G4', 'G5'))\n",
    "plt.yticks(numpy.arange(0, 1.1, 10))\n",
    "plt.legend((p1[0], p2[0], p3[0]), ('m_spacecraft', 'm_fuel', 'm_engine'))\n"
   ]
  },
  {
   "cell_type": "code",
   "execution_count": null,
   "metadata": {
    "collapsed": true,
    "deletable": true,
    "editable": true
   },
   "outputs": [],
   "source": []
  }
 ],
 "metadata": {
  "kernelspec": {
   "display_name": "Python 2",
   "language": "python",
   "name": "python2"
  },
  "language_info": {
   "codemirror_mode": {
    "name": "ipython",
    "version": 2
   },
   "file_extension": ".py",
   "mimetype": "text/x-python",
   "name": "python",
   "nbconvert_exporter": "python",
   "pygments_lexer": "ipython2",
   "version": "2.7.10"
  }
 },
 "nbformat": 4,
 "nbformat_minor": 2
}
